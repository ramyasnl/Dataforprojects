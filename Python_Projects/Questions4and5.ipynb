{
  "nbformat": 4,
  "nbformat_minor": 0,
  "metadata": {
    "colab": {
      "name": "Questions4and5.ipynb",
      "provenance": [],
      "authorship_tag": "ABX9TyNwddBtf0HstkvF6NT9ucFV",
      "include_colab_link": true
    },
    "kernelspec": {
      "name": "python3",
      "display_name": "Python 3"
    },
    "language_info": {
      "name": "python"
    }
  },
  "cells": [
    {
      "cell_type": "markdown",
      "metadata": {
        "id": "view-in-github",
        "colab_type": "text"
      },
      "source": [
        "<a href=\"https://colab.research.google.com/github/ramyasnl/Submission_Projects/blob/main/Python_Projects/Questions4and5.ipynb\" target=\"_parent\"><img src=\"https://colab.research.google.com/assets/colab-badge.svg\" alt=\"Open In Colab\"/></a>"
      ]
    },
    {
      "cell_type": "markdown",
      "source": [
        "## Question4: Write a Python class to find validity of a string of parentheses, '(', ')', '{', '}', '[' and ']. These brackets must be close in the correct order, for example \"()\" and \"()[]{}\" are valid but \"[)\", \"({[)]\" and \"{{{\" are invalid."
      ],
      "metadata": {
        "id": "HzQSJ9Jq6RAT"
      }
    },
    {
      "cell_type": "code",
      "execution_count": 2,
      "metadata": {
        "colab": {
          "base_uri": "https://localhost:8080/"
        },
        "id": "HcXowFQ14Sl7",
        "outputId": "358899df-4f7c-40c5-c0fa-f093cb4e0f0b"
      },
      "outputs": [
        {
          "output_type": "stream",
          "name": "stdout",
          "text": [
            "True\n",
            "False\n",
            "True\n",
            "False\n",
            "False\n",
            "False\n"
          ]
        }
      ],
      "source": [
        "class py_solution:\n",
        "   def valid_parenthese(self, str1):\n",
        "        stack, pchar = [], {\"(\": \")\", \"{\": \"}\", \"[\": \"]\"}\n",
        "        for parenthese in str1:\n",
        "            if parenthese in pchar:\n",
        "                stack.append(parenthese)\n",
        "            elif len(stack) == 0 or pchar[stack.pop()] != parenthese:\n",
        "                return False\n",
        "        return len(stack) == 0\n",
        "\n",
        "print(py_solution().valid_parenthese(\"(){}[]\"))\n",
        "print(py_solution().valid_parenthese(\"()[{)}\"))\n",
        "print(py_solution().valid_parenthese(\"()\"))\n",
        "print(py_solution().valid_parenthese(\"[)\"))\n",
        "print(py_solution().valid_parenthese(\"({[)]\"))\n",
        "print(py_solution().valid_parenthese(\"{{{\"))"
      ]
    },
    {
      "cell_type": "markdown",
      "source": [
        "## Question 5: Write a Python program to get all possible unique subsets from a set of distinct integers."
      ],
      "metadata": {
        "id": "jVDwbgmF6in0"
      }
    },
    {
      "cell_type": "code",
      "source": [
        "class py_solution_2:\n",
        "    def sub_sets(self, sset):\n",
        "        return self.subsetsRecur([], sorted(sset))\n",
        "        # print(\"Input:\",self.subsetsRecur())\n",
        "    \n",
        "    def subsetsRecur(self, current, sset):\n",
        "        if sset:\n",
        "            return self.subsetsRecur(current, sset[1:]) + self.subsetsRecur(current + [sset[0]], sset[1:])\n",
        "        return [current]\n",
        "print(\"Input:[4,5,6]\")\n",
        "print(\"Output\",py_solution_2().sub_sets([4,5,6]))\n",
        "# print(\"Input:\",sub_setspy_solution_2().sub_sets([4,5,6]))"
      ],
      "metadata": {
        "colab": {
          "base_uri": "https://localhost:8080/"
        },
        "id": "3ud_Y13B6wQT",
        "outputId": "2220ac8b-7b6b-4825-951b-152a0627ae10"
      },
      "execution_count": 10,
      "outputs": [
        {
          "output_type": "stream",
          "name": "stdout",
          "text": [
            "Input:[4,5,6]\n",
            "Output [[], [6], [5], [5, 6], [4], [4, 6], [4, 5], [4, 5, 6]]\n"
          ]
        }
      ]
    }
  ]
}